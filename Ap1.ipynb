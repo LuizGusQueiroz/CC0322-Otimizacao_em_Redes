{
 "cells": [
  {
   "cell_type": "code",
   "execution_count": 1,
   "id": "initial_id",
   "metadata": {
    "collapsed": true,
    "ExecuteTime": {
     "end_time": "2025-05-13T16:21:50.041030Z",
     "start_time": "2025-05-13T16:21:50.023782Z"
    }
   },
   "outputs": [],
   "source": [
    "from Grafo import Grafo\n",
    "from utils import txt_to_graph"
   ]
  },
  {
   "cell_type": "code",
   "outputs": [
    {
     "name": "stdout",
     "output_type": "stream",
     "text": [
      "Resultados do algoritmo de Dijkstra\n",
      "\n",
      "Grafo 1:\n",
      "A - > B : 6.0\n",
      "A - > C : 4.0\n",
      "A - > D : 8.0\n",
      "A - > S : 2.0\n",
      "B - > A : 6.0\n",
      "B - > C : 5.0\n",
      "B - > D : 8.0\n",
      "B - > S : 6.0\n",
      "C - > A : 4.0\n",
      "C - > B : 5.0\n",
      "C - > D : 9.0\n",
      "C - > S : 4.0\n",
      "D - > A : 8.0\n",
      "D - > B : 8.0\n",
      "D - > C : 9.0\n",
      "D - > S : 7.0\n",
      "S - > A : 2.0\n",
      "S - > B : 6.0\n",
      "S - > C : 4.0\n",
      "S - > D : 7.0\n",
      "\n",
      "Grafo 2:\n",
      "A - > B : 6.0\n",
      "A - > C : 4.0\n",
      "A - > D : 8.0\n",
      "A - > S : 2.0\n",
      "B - > A : 6.0\n",
      "B - > C : 5.0\n",
      "B - > D : 8.0\n",
      "B - > S : 6.0\n",
      "C - > A : 4.0\n",
      "C - > B : 5.0\n",
      "C - > D : 9.0\n",
      "C - > S : 4.0\n",
      "D - > A : 8.0\n",
      "D - > B : 8.0\n",
      "D - > C : 9.0\n",
      "D - > S : 7.0\n",
      "S - > A : 2.0\n",
      "S - > B : 6.0\n",
      "S - > C : 4.0\n",
      "S - > D : 7.0\n",
      "\n",
      "Grafo 3:\n",
      "A - > B : 6.0\n",
      "A - > C : 4.0\n",
      "A - > D : 8.0\n",
      "A - > S : 2.0\n",
      "B - > A : 6.0\n",
      "B - > C : 5.0\n",
      "B - > D : 8.0\n",
      "B - > S : 6.0\n",
      "C - > A : 4.0\n",
      "C - > B : 5.0\n",
      "C - > D : 9.0\n",
      "C - > S : 4.0\n",
      "D - > A : 8.0\n",
      "D - > B : 8.0\n",
      "D - > C : 9.0\n",
      "D - > S : 7.0\n",
      "S - > A : 2.0\n",
      "S - > B : 6.0\n",
      "S - > C : 4.0\n",
      "S - > D : 7.0\n",
      "\n",
      "Grafo 4:\n",
      "A - > B : 6.0\n",
      "A - > C : 4.0\n",
      "A - > D : 8.0\n",
      "A - > S : 2.0\n",
      "B - > A : 6.0\n",
      "B - > C : 5.0\n",
      "B - > D : 8.0\n",
      "B - > S : 6.0\n",
      "C - > A : 4.0\n",
      "C - > B : 5.0\n",
      "C - > D : 9.0\n",
      "C - > S : 4.0\n",
      "D - > A : 8.0\n",
      "D - > B : 8.0\n",
      "D - > C : 9.0\n",
      "D - > S : 7.0\n",
      "S - > A : 2.0\n",
      "S - > B : 6.0\n",
      "S - > C : 4.0\n",
      "S - > D : 7.0\n"
     ]
    }
   ],
   "source": [
    "print('Resultados do algoritmo de Dijkstra')\n",
    "\n",
    "for i in range(1, 5):\n",
    "    print(f'\\nGrafo {i}:')\n",
    "    G: Grafo = txt_to_graph('G1.txt')\n",
    "    for orig in G.V:\n",
    "        for dest in G.V:\n",
    "            if orig != dest:\n",
    "                custo: float = G.dijkstra(orig, dest)\n",
    "                print(f'{orig} - > {dest} : {custo}')"
   ],
   "metadata": {
    "collapsed": false,
    "ExecuteTime": {
     "end_time": "2025-05-13T16:21:50.058993Z",
     "start_time": "2025-05-13T16:21:50.042108Z"
    }
   },
   "id": "44ec22496c13f1d8",
   "execution_count": 2
  },
  {
   "cell_type": "code",
   "outputs": [
    {
     "name": "stdout",
     "output_type": "stream",
     "text": [
      "Resultados do algoritmo de Floyd\n",
      "\n",
      "Grafo 1:\n",
      "A {A: 0, B: 6.0, C: 4.0, D: 8.0, S: 2.0}\n",
      "B {A: 6.0, B: 0, C: 5.0, D: 8.0, S: 6.0}\n",
      "C {A: 4.0, B: 5.0, C: 0, D: 9.0, S: 4.0}\n",
      "D {A: 8.0, B: 8.0, C: 9.0, D: 0, S: 7.0}\n",
      "S {A: 2.0, B: 6.0, C: 4.0, D: 7.0, S: 0}\n",
      "\n",
      "Grafo 2:\n",
      "A {A: 0, B: 12.0, C: 6.0, D: 7.0, S: 8.0}\n",
      "B {A: 12.0, B: 0, C: 9.0, D: 10.0, S: 11.0}\n",
      "C {A: 6.0, B: 9.0, C: 0, D: 6.0, S: 5.0}\n",
      "D {A: 7.0, B: 10.0, C: 6.0, D: 0, S: 11.0}\n",
      "S {A: 8.0, B: 11.0, C: 5.0, D: 11.0, S: 0}\n",
      "\n",
      "Grafo 3:\n",
      "A {A: 0, B: 5.0, C: 8.0, D: 13.0, E: 10.0, F: 7.0, G: 13.0, S: 6.0}\n",
      "B {A: 5.0, B: 0, C: 4.0, D: 8.0, E: 7.0, F: 9.0, G: 12.0, S: 9.0}\n",
      "C {A: 8.0, B: 4.0, C: 0, D: 12.0, E: 4.0, F: 5.0, G: 11.0, S: 13.0}\n",
      "D {A: 13.0, B: 8.0, C: 12.0, D: 0, E: 9.0, F: 10.0, G: 4.0, S: 17.0}\n",
      "E {A: 10.0, B: 7.0, C: 4.0, D: 9.0, E: 0, F: 3.0, G: 9.0, S: 16.0}\n",
      "F {A: 7.0, B: 9.0, C: 5.0, D: 10.0, E: 3.0, F: 0, G: 6.0, S: 13.0}\n",
      "G {A: 13.0, B: 12.0, C: 11.0, D: 4.0, E: 9.0, F: 6.0, G: 0, S: 19.0}\n",
      "S {A: 6.0, B: 9.0, C: 13.0, D: 17.0, E: 16.0, F: 13.0, G: 19.0, S: 0}\n",
      "\n",
      "Grafo 4:\n",
      "A {A: 0, B: 6.0, C: 2.0, D: 12.0, E: 6.0, F: 4.0, G: 10.0, S: 7.0}\n",
      "B {A: 6.0, B: 0, C: 4.0, D: 6.0, E: 6.0, F: 9.0, G: 10.0, S: 9.0}\n",
      "C {A: 2.0, B: 4.0, C: 0, D: 10.0, E: 4.0, F: 5.0, G: 11.0, S: 9.0}\n",
      "D {A: 12.0, B: 6.0, C: 10.0, D: 0, E: 9.0, F: 10.0, G: 4.0, S: 15.0}\n",
      "E {A: 6.0, B: 6.0, C: 4.0, D: 9.0, E: 0, F: 3.0, G: 9.0, S: 13.0}\n",
      "F {A: 4.0, B: 9.0, C: 5.0, D: 10.0, E: 3.0, F: 0, G: 6.0, S: 11.0}\n",
      "G {A: 10.0, B: 10.0, C: 11.0, D: 4.0, E: 9.0, F: 6.0, G: 0, S: 17.0}\n",
      "S {A: 7.0, B: 9.0, C: 9.0, D: 15.0, E: 13.0, F: 11.0, G: 17.0, S: 0}\n"
     ]
    }
   ],
   "source": [
    "print('Resultados do algoritmo de Floyd')\n",
    "\n",
    "for i in range(1, 5):\n",
    "    print(f'\\nGrafo {i}:')\n",
    "    G: Grafo = txt_to_graph(f'G{i}.txt')\n",
    "    \n",
    "    mtx = G.floyd_warshall(direcionado=False)\n",
    "    for key in mtx:\n",
    "        print(key, mtx[key])"
   ],
   "metadata": {
    "collapsed": false,
    "ExecuteTime": {
     "end_time": "2025-05-13T16:21:50.074435Z",
     "start_time": "2025-05-13T16:21:50.060171Z"
    }
   },
   "id": "1181dc209610201e",
   "execution_count": 3
  },
  {
   "cell_type": "code",
   "outputs": [
    {
     "name": "stdout",
     "output_type": "stream",
     "text": [
      "Resultados do algoritmo de Kruskal\n",
      "\n",
      "Grafo 1:\n",
      "[A->S:2.0, A->C:4.0, B->C:5.0, D->S:7.0]\n",
      "\n",
      "Grafo 2:\n",
      "[C->S:5.0, A->C:6.0, C->D:6.0, B->C:9.0]\n",
      "\n",
      "Grafo 3:\n",
      "[E->F:3.0, B->C:4.0, C->E:4.0, D->G:4.0, A->B:5.0, A->S:6.0, F->G:6.0]\n",
      "\n",
      "Grafo 4:\n",
      "[A->C:2.0, E->F:3.0, A->F:4.0, B->C:4.0, D->G:4.0, B->D:6.0, A->S:7.0]\n"
     ]
    }
   ],
   "source": [
    "print('Resultados do algoritmo de Kruskal')\n",
    "\n",
    "for i in range(1, 5):\n",
    "    print(f'\\nGrafo {i}:')\n",
    "    G: Grafo = txt_to_graph(f'G{i}.txt')\n",
    "    \n",
    "    agm: Grafo = G.kruskal()\n",
    "    print(agm.E)    "
   ],
   "metadata": {
    "collapsed": false,
    "ExecuteTime": {
     "end_time": "2025-05-13T16:21:50.082720Z",
     "start_time": "2025-05-13T16:21:50.075512Z"
    }
   },
   "id": "1cf0c9c0a8309a22",
   "execution_count": 4
  },
  {
   "cell_type": "code",
   "outputs": [
    {
     "name": "stdout",
     "output_type": "stream",
     "text": [
      "Resultados do algoritmo de Prim\n",
      "\n",
      "Grafo 1:\n",
      "[A->S:2.0, C->S:4.0, B->C:5.0, D->S:7.0]\n",
      "\n",
      "Grafo 2:\n",
      "[A->C:6.0, C->S:5.0, C->D:6.0, B->C:9.0]\n",
      "\n",
      "Grafo 3:\n",
      "[A->B:5.0, B->C:4.0, C->E:4.0, E->F:3.0, F->G:6.0, D->G:4.0, A->S:6.0]\n",
      "\n",
      "Grafo 4:\n",
      "[A->C:2.0, C->E:4.0, E->F:3.0, B->C:4.0, B->D:6.0, D->G:4.0, A->S:7.0]\n"
     ]
    }
   ],
   "source": [
    "print('Resultados do algoritmo de Prim')\n",
    "\n",
    "for i in range(1, 5):\n",
    "    print(f'\\nGrafo {i}:')\n",
    "    G: Grafo = txt_to_graph(f'G{i}.txt')\n",
    "    \n",
    "    agm: Grafo = G.prim()\n",
    "    print(agm.E)"
   ],
   "metadata": {
    "collapsed": false,
    "ExecuteTime": {
     "end_time": "2025-05-13T16:21:50.093137Z",
     "start_time": "2025-05-13T16:21:50.083889Z"
    }
   },
   "id": "1dda3898e5c3fd5",
   "execution_count": 5
  },
  {
   "cell_type": "code",
   "outputs": [],
   "source": [],
   "metadata": {
    "collapsed": false,
    "ExecuteTime": {
     "end_time": "2025-05-13T16:21:50.097085Z",
     "start_time": "2025-05-13T16:21:50.094295Z"
    }
   },
   "id": "6c22e7b89f537b6e",
   "execution_count": 5
  }
 ],
 "metadata": {
  "kernelspec": {
   "display_name": "Python 3",
   "language": "python",
   "name": "python3"
  },
  "language_info": {
   "codemirror_mode": {
    "name": "ipython",
    "version": 2
   },
   "file_extension": ".py",
   "mimetype": "text/x-python",
   "name": "python",
   "nbconvert_exporter": "python",
   "pygments_lexer": "ipython2",
   "version": "2.7.6"
  }
 },
 "nbformat": 4,
 "nbformat_minor": 5
}
